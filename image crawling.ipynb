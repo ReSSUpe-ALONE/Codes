{
  "nbformat": 4,
  "nbformat_minor": 0,
  "metadata": {
    "colab": {
      "name": "image",
      "provenance": [],
      "mount_file_id": "1eBaElmu27w9Lk0M04DsVVgKeWAmrOJsu",
      "authorship_tag": "ABX9TyMZXTUFetkJw7LUnqa1PTYg",
      "include_colab_link": true
    },
    "kernelspec": {
      "name": "python3",
      "display_name": "Python 3"
    }
  },
  "cells": [
    {
      "cell_type": "markdown",
      "metadata": {
        "id": "view-in-github",
        "colab_type": "text"
      },
      "source": [
        "<a href=\"https://colab.research.google.com/github/Cl8D/reSSUpe/blob/master/image%20crawling.ipynb\" target=\"_parent\"><img src=\"https://colab.research.google.com/assets/colab-badge.svg\" alt=\"Open In Colab\"/></a>"
      ]
    },
    {
      "cell_type": "code",
      "metadata": {
        "id": "w-DLrqeLqZzO",
        "outputId": "1c89712e-de6c-4715-bfde-9fb6840525db",
        "colab": {
          "base_uri": "https://localhost:8080/",
          "height": 274
        }
      },
      "source": [
        "pip install google_images_download"
      ],
      "execution_count": 1,
      "outputs": [
        {
          "output_type": "stream",
          "text": [
            "Collecting google_images_download\n",
            "  Downloading https://files.pythonhosted.org/packages/18/ed/0319d30c48f3653802da8e6dcfefcea6370157d10d566ef6807cceb5ec4d/google_images_download-2.8.0.tar.gz\n",
            "Collecting selenium\n",
            "\u001b[?25l  Downloading https://files.pythonhosted.org/packages/80/d6/4294f0b4bce4de0abf13e17190289f9d0613b0a44e5dd6a7f5ca98459853/selenium-3.141.0-py2.py3-none-any.whl (904kB)\n",
            "\u001b[K     |████████████████████████████████| 911kB 12.7MB/s \n",
            "\u001b[?25hRequirement already satisfied: urllib3 in /usr/local/lib/python3.6/dist-packages (from selenium->google_images_download) (1.24.3)\n",
            "Building wheels for collected packages: google-images-download\n",
            "  Building wheel for google-images-download (setup.py) ... \u001b[?25l\u001b[?25hdone\n",
            "  Created wheel for google-images-download: filename=google_images_download-2.8.0-py2.py3-none-any.whl size=14550 sha256=dfda06c572c4ef17765f52e0cf279c90f3593b4db2fc9ef9d420f7a9279b52e9\n",
            "  Stored in directory: /root/.cache/pip/wheels/1f/28/ad/f56e7061e1d2a9a1affe2f9c649c2570cb9198dd24ede0bbab\n",
            "Successfully built google-images-download\n",
            "Installing collected packages: selenium, google-images-download\n",
            "Successfully installed google-images-download-2.8.0 selenium-3.141.0\n"
          ],
          "name": "stdout"
        }
      ]
    },
    {
      "cell_type": "code",
      "metadata": {
        "id": "mcLUeDtuqiIO",
        "outputId": "162dcc83-96f1-404f-81b7-baed73a5b8ae",
        "colab": {
          "base_uri": "https://localhost:8080/",
          "height": 581
        }
      },
      "source": [
        "from google_images_download import google_images_download   #importing the library\n",
        "\n",
        "response = google_images_download.googleimagesdownload()   #class instantiation\n",
        "\n",
        "arguments = {\"keywords\":\"Polar bears,baloons,Beaches\",\"limit\":20,\"print_urls\":True}   #creating list of arguments\n",
        "paths = response.download(arguments)   #passing the arguments to the function\n",
        "print(paths)   #printing absolute paths of the downloaded images"
      ],
      "execution_count": 13,
      "outputs": [
        {
          "output_type": "stream",
          "text": [
            "\n",
            "Item no.: 1 --> Item name = Polar bears\n",
            "Evaluating...\n",
            "Starting Download...\n",
            "\n",
            "\n",
            "Unfortunately all 20 could not be downloaded because some images were not downloadable. 0 is all we got for this search filter!\n",
            "\n",
            "Errors: 0\n",
            "\n",
            "\n",
            "Item no.: 2 --> Item name = baloons\n",
            "Evaluating...\n",
            "Starting Download...\n",
            "\n",
            "\n",
            "Unfortunately all 20 could not be downloaded because some images were not downloadable. 0 is all we got for this search filter!\n",
            "\n",
            "Errors: 0\n",
            "\n",
            "\n",
            "Item no.: 3 --> Item name = Beaches\n",
            "Evaluating...\n",
            "Starting Download...\n",
            "\n",
            "\n",
            "Unfortunately all 20 could not be downloaded because some images were not downloadable. 0 is all we got for this search filter!\n",
            "\n",
            "Errors: 0\n",
            "\n",
            "({'Polar bears': [], 'baloons': [], 'Beaches': []}, 0)\n"
          ],
          "name": "stdout"
        }
      ]
    },
    {
      "cell_type": "code",
      "metadata": {
        "id": "dW2d-TQwsQLU",
        "outputId": "fb5b6f62-e6e2-484d-bdf2-5e655722a92e",
        "colab": {
          "base_uri": "https://localhost:8080/",
          "height": 72
        }
      },
      "source": [
        "from urllib.request import urlopen\n",
        "from urllib.request import urlretrieve\n",
        "from urllib.parse import quote_plus\n",
        "from bs4 import BeautifulSoup\n",
        "from selenium import webdriver\n",
        "\n",
        "search = input(\"원하는 사진 입력: \")\n",
        "\n",
        "url = f'https://www.google.com/search?q={quote_plus(search)}&hl=ko&sxsrf=ALeKk02_np2jRzEiJR7yjnsHnaaQU5XcTg:1601296810245&source=lnms&tbm=isch&sa=X&ved=2ahUKEwjFvbe874vsAhWKyYsBHUW4A9oQ_AUoAXoECAwQAw&biw=871&bih=872'\n",
        "\n",
        "chrome_options = webdriver.ChromeOptions()\n",
        "chrome_options.add_argument('--headless')\n",
        "chrome_options.add_argument('--no-sandbox')\n",
        "chrome_options.add_argument('--single-process')\n",
        "\n",
        "driver = webdriver.Chrome('chromedriver', chrome_options=chrome_options)\n",
        "\n",
        "driver.get(url)\n",
        "for i in range(500):\n",
        "  driver.execute_script(\"window.scrollBy(0,10000)\")\n",
        "\n",
        "html = driver.page_source\n",
        "soup = BeautifulSoup(html)\n",
        "img = soup.select('.rg_i.Q4LuWd')\n",
        "n=1\n",
        "imgurl = []\n",
        "\n",
        "for i in img:\n",
        "  try :\n",
        "    imgurl.append(i.attrs[\"src\"])\n",
        "  except KeyError:\n",
        "    imgurl.append(i.attrs[\"data-src\"])\n",
        "\n",
        "for i in imgurl:\n",
        "  urlretrieve(i, \"/content/drive/My Drive/dataset/egg/\" + search + str(n) + \".jpg\")\n",
        "  n+=1\n",
        "  if(n==100):\n",
        "    break\n",
        "\n",
        "driver.close()\n"
      ],
      "execution_count": 39,
      "outputs": [
        {
          "output_type": "stream",
          "text": [
            "원하는 사진 입력: egg image\n"
          ],
          "name": "stdout"
        },
        {
          "output_type": "stream",
          "text": [
            "/usr/local/lib/python3.6/dist-packages/ipykernel_launcher.py:16: DeprecationWarning: use options instead of chrome_options\n",
            "  app.launch_new_instance()\n"
          ],
          "name": "stderr"
        }
      ]
    },
    {
      "cell_type": "code",
      "metadata": {
        "id": "b3vkM5No2wmB"
      },
      "source": [
        ""
      ],
      "execution_count": null,
      "outputs": []
    }
  ]
}